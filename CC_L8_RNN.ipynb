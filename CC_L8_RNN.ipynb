{
  "nbformat": 4,
  "nbformat_minor": 0,
  "metadata": {
    "colab": {
      "provenance": []
    },
    "kernelspec": {
      "name": "python3",
      "display_name": "Python 3"
    },
    "language_info": {
      "name": "python"
    }
  },
  "cells": [
    {
      "cell_type": "markdown",
      "source": [
        "# **EXPERIMENT 8**"
      ],
      "metadata": {
        "id": "NdktP_A_Q0t7"
      }
    },
    {
      "cell_type": "markdown",
      "source": [
        "# **Exploring RNN**"
      ],
      "metadata": {
        "id": "_lAwBLOI6ket"
      }
    },
    {
      "cell_type": "code",
      "execution_count": 20,
      "metadata": {
        "id": "zRyFIePQyi9G"
      },
      "outputs": [],
      "source": [
        "import torch\n",
        "import torch.nn as nn\n",
        "import numpy as np"
      ]
    },
    {
      "cell_type": "code",
      "source": [
        "input_size = 9 \n",
        "hidden_size = 16 \n",
        "num_layers = 1\n",
        "actfun = 'tanh'\n",
        "bias = True"
      ],
      "metadata": {
        "id": "Rw_v19NKzEub"
      },
      "execution_count": 21,
      "outputs": []
    },
    {
      "cell_type": "markdown",
      "source": [
        "\n",
        "\n",
        "```\n",
        "input_size = 9\n",
        "hidden_size = 16\n",
        "num_layers = 2 # Changing number of layers to 2\n",
        "actfun = 'relu' # Changing activation function to ReLU\n",
        "bias = True\n",
        "```\n",
        "\n"
      ],
      "metadata": {
        "id": "XkPOt1aoxhwL"
      }
    },
    {
      "cell_type": "code",
      "source": [
        "rnn = nn.RNN(input_size,hidden_size,num_layers,nonlinearity=actfun,bias=bias)\n",
        "print(rnn)"
      ],
      "metadata": {
        "colab": {
          "base_uri": "https://localhost:8080/"
        },
        "id": "d9SS8IV7zLpV",
        "outputId": "ad0ef5aa-0d2f-4d25-9998-64234939e29c"
      },
      "execution_count": 22,
      "outputs": [
        {
          "output_type": "stream",
          "name": "stdout",
          "text": [
            "RNN(9, 16)\n"
          ]
        }
      ]
    },
    {
      "cell_type": "code",
      "source": [
        "seqlength = 5\n",
        "batchsize = 2"
      ],
      "metadata": {
        "id": "kdmtYyrWzPtt"
      },
      "execution_count": 23,
      "outputs": []
    },
    {
      "cell_type": "code",
      "source": [
        "X = torch.rand(seqlength,batchsize,input_size)"
      ],
      "metadata": {
        "id": "VSDpYtRJzRbY"
      },
      "execution_count": 24,
      "outputs": []
    },
    {
      "cell_type": "code",
      "source": [
        "hidden = torch.zeros(num_layers,batchsize,hidden_size)"
      ],
      "metadata": {
        "id": "ec1VrRZrzS3X"
      },
      "execution_count": 25,
      "outputs": []
    },
    {
      "cell_type": "code",
      "source": [
        "y,h = rnn(X,hidden)\n",
        "print(f' Input shape: {list(X.shape)}')\n",
        "print(f'Hidden shape: {list(h.shape)}')\n",
        "print(f'Output shape: {list(y.shape)}')"
      ],
      "metadata": {
        "colab": {
          "base_uri": "https://localhost:8080/"
        },
        "id": "diS6Os8xzUXb",
        "outputId": "5263a787-7926-4d54-e268-cb5b66c44c8e"
      },
      "execution_count": 26,
      "outputs": [
        {
          "output_type": "stream",
          "name": "stdout",
          "text": [
            " Input shape: [5, 2, 9]\n",
            "Hidden shape: [1, 2, 16]\n",
            "Output shape: [5, 2, 16]\n"
          ]
        }
      ]
    },
    {
      "cell_type": "code",
      "source": [
        "y,h1 = rnn(X,hidden)\n",
        "print(h1), print('\\n\\n')"
      ],
      "metadata": {
        "colab": {
          "base_uri": "https://localhost:8080/"
        },
        "id": "3DOQKnPgzWTG",
        "outputId": "d23afb68-afd1-4e6e-cdc5-d6836c299129"
      },
      "execution_count": 27,
      "outputs": [
        {
          "output_type": "stream",
          "name": "stdout",
          "text": [
            "tensor([[[0.0000, 0.0000, 0.0713, 0.0798, 0.0316, 0.0000, 0.0000, 0.0000,\n",
            "          0.0000, 0.0000, 0.0000, 0.0342, 0.1249, 0.0000, 0.1162, 0.2337],\n",
            "         [0.4574, 0.0000, 0.0000, 0.0000, 0.4199, 0.0000, 0.0000, 0.0000,\n",
            "          0.0000, 0.0000, 0.0000, 0.0835, 0.0000, 0.0000, 0.0000, 0.6319]]],\n",
            "       grad_fn=<StackBackward0>)\n",
            "\n",
            "\n",
            "\n"
          ]
        },
        {
          "output_type": "execute_result",
          "data": {
            "text/plain": [
              "(None, None)"
            ]
          },
          "metadata": {},
          "execution_count": 27
        }
      ]
    },
    {
      "cell_type": "code",
      "source": [
        "y,h2 = rnn(X)\n",
        "print(h2), print('\\n\\n')"
      ],
      "metadata": {
        "colab": {
          "base_uri": "https://localhost:8080/"
        },
        "id": "Dj7-J3v4zXhD",
        "outputId": "1e3ae880-797c-4434-b5ae-1da9b323df66"
      },
      "execution_count": 28,
      "outputs": [
        {
          "output_type": "stream",
          "name": "stdout",
          "text": [
            "tensor([[[0.0000, 0.0000, 0.0713, 0.0798, 0.0316, 0.0000, 0.0000, 0.0000,\n",
            "          0.0000, 0.0000, 0.0000, 0.0342, 0.1249, 0.0000, 0.1162, 0.2337],\n",
            "         [0.4574, 0.0000, 0.0000, 0.0000, 0.4199, 0.0000, 0.0000, 0.0000,\n",
            "          0.0000, 0.0000, 0.0000, 0.0835, 0.0000, 0.0000, 0.0000, 0.6319]]],\n",
            "       grad_fn=<StackBackward0>)\n",
            "\n",
            "\n",
            "\n"
          ]
        },
        {
          "output_type": "execute_result",
          "data": {
            "text/plain": [
              "(None, None)"
            ]
          },
          "metadata": {},
          "execution_count": 28
        }
      ]
    },
    {
      "cell_type": "code",
      "source": [
        "print(h1-h2)"
      ],
      "metadata": {
        "colab": {
          "base_uri": "https://localhost:8080/"
        },
        "id": "lLMmErD0zaYE",
        "outputId": "248825af-d612-45bb-e9ce-4f3fa5e4d12e"
      },
      "execution_count": 29,
      "outputs": [
        {
          "output_type": "stream",
          "name": "stdout",
          "text": [
            "tensor([[[0., 0., 0., 0., 0., 0., 0., 0., 0., 0., 0., 0., 0., 0., 0., 0.],\n",
            "         [0., 0., 0., 0., 0., 0., 0., 0., 0., 0., 0., 0., 0., 0., 0., 0.]]],\n",
            "       grad_fn=<SubBackward0>)\n"
          ]
        }
      ]
    },
    {
      "cell_type": "code",
      "source": [
        "for p in rnn.named_parameters():\n",
        "  if 'weight' in p[0]:\n",
        "    print(f'{p[0]} has size {list(p[1].shape)}')"
      ],
      "metadata": {
        "colab": {
          "base_uri": "https://localhost:8080/"
        },
        "id": "CRUWIR2rzcHd",
        "outputId": "5a529672-91d9-4af5-c899-367ead5db260"
      },
      "execution_count": 30,
      "outputs": [
        {
          "output_type": "stream",
          "name": "stdout",
          "text": [
            "weight_ih_l0 has size [16, 9]\n",
            "weight_hh_l0 has size [16, 16]\n"
          ]
        }
      ]
    },
    {
      "cell_type": "code",
      "source": [
        "class RNNnet(nn.Module):\n",
        "  def __init__(self,input_size,num_hidden,num_layers):\n",
        "    super().__init__()\n",
        "    self.input_size = input_size\n",
        "    self.num_hidden = num_hidden\n",
        "    self.num_layers = num_layers\n",
        "    self.rnn = nn.RNN(input_size,num_hidden,num_layers)\n",
        "    self.out = nn.Linear(num_hidden,1)\n",
        "\n",
        "\n",
        "  def forward(self,x):\n",
        "    print(f'Input: {list(x.shape)}')\n",
        "    hidden = torch.zeros(self.num_layers,batchsize,self.num_hidden)\n",
        "    print(f'Hidden: {list(hidden.shape)}')\n",
        "\n",
        "    y,hidden = self.rnn(x,hidden)\n",
        "    print(f'RNN-out: {list(y.shape)}')\n",
        "    print(f'RNN-hidden: {list(hidden.shape)}')\n",
        "    o = self.out(y) \n",
        "    print(f'Output: {list(o.shape)}')\n",
        "    return o,hidden"
      ],
      "metadata": {
        "id": "7W-vz9zTzeBb"
      },
      "execution_count": 31,
      "outputs": []
    },
    {
      "cell_type": "code",
      "source": [
        "net = RNNnet(input_size,hidden_size,num_layers)\n",
        "print(net), print(' ')\n",
        "for p in net.named_parameters():\n",
        "  print(f'{p[0]} has size {list(p[1].shape)}')\n",
        "X = torch.rand(seqlength,batchsize,input_size)\n",
        "y = torch.rand(seqlength,batchsize,1)\n",
        "yHat,h = net(X)\n",
        "lossfun = nn.MSELoss()\n",
        "lossfun(yHat,y)"
      ],
      "metadata": {
        "colab": {
          "base_uri": "https://localhost:8080/"
        },
        "id": "hEWYVChczqh8",
        "outputId": "5b6c2c78-61eb-410f-c5e1-de77ecc8480a"
      },
      "execution_count": 32,
      "outputs": [
        {
          "output_type": "stream",
          "name": "stdout",
          "text": [
            "RNNnet(\n",
            "  (rnn): RNN(9, 16)\n",
            "  (out): Linear(in_features=16, out_features=1, bias=True)\n",
            ")\n",
            " \n",
            "rnn.weight_ih_l0 has size [16, 9]\n",
            "rnn.weight_hh_l0 has size [16, 16]\n",
            "rnn.bias_ih_l0 has size [16]\n",
            "rnn.bias_hh_l0 has size [16]\n",
            "out.weight has size [1, 16]\n",
            "out.bias has size [1]\n",
            "Input: [5, 2, 9]\n",
            "Hidden: [1, 2, 16]\n",
            "RNN-out: [5, 2, 16]\n",
            "RNN-hidden: [1, 2, 16]\n",
            "Output: [5, 2, 1]\n"
          ]
        },
        {
          "output_type": "execute_result",
          "data": {
            "text/plain": [
              "tensor(0.0504, grad_fn=<MseLossBackward0>)"
            ]
          },
          "metadata": {},
          "execution_count": 32
        }
      ]
    }
  ]
}